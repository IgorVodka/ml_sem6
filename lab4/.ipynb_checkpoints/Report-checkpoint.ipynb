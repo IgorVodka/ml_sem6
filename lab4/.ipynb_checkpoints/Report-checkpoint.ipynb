{
 "cells": [
  {
   "cell_type": "markdown",
   "metadata": {},
   "source": [
    "# Лабораторная работа 4 по ТМО\n",
    "Водка Игорь, ИУ5-61\n",
    "\n",
    "## Подготовка обучающей и тестовой выборки, кросс-валидация и подбор гиперпараметров на примере метода ближайших соседей."
   ]
  },
  {
   "cell_type": "markdown",
   "metadata": {},
   "source": [
    "## Выберите набор данных (датасет) для решения задачи классификации или регресии.\n",
    "Возьмём из прошлой лабы. \n",
    "`../lab3/winemag-data-130k-v2.csv`\n",
    "\n",
    "## В случае необходимости проведите удаление или заполнение пропусков и кодирование категориальных признаков."
   ]
  },
  {
   "cell_type": "code",
   "execution_count": 355,
   "metadata": {},
   "outputs": [],
   "source": [
    "# read the data\n",
    "import pandas as pd\n",
    "reviews = pd.read_csv(\"../lab3/winemag-data-130k-v2.csv\", index_col=0)\n",
    "pd.set_option('max_rows', 5)\n",
    "\n",
    "for column in [\"country\", \"region_1\", \"region_2\"]:\n",
    "    reviews[column] = reviews[column].fillna(\"Unknown\")\n",
    "\n",
    "reviews['price'] = reviews.groupby('country').transform(lambda x: x.fillna(x.mean()))"
   ]
  },
  {
   "cell_type": "code",
   "execution_count": 356,
   "metadata": {},
   "outputs": [],
   "source": [
    "from sklearn.preprocessing import LabelEncoder, OneHotEncoder\n",
    "\n",
    "# country ok, winery ok\n",
    "for feature in ['country', 'province', 'region_1', 'region_2', 'variety', 'winery']:\n",
    "    le = LabelEncoder()\n",
    "    reviews[feature] = reviews[feature].dropna()\n",
    "    processed = pd.DataFrame({'result': reviews[feature]})\n",
    "    reviews[feature] = le.fit_transform(processed['result'].astype(str))"
   ]
  },
  {
   "cell_type": "code",
   "execution_count": 357,
   "metadata": {},
   "outputs": [
    {
     "data": {
      "text/html": [
       "<div>\n",
       "<style scoped>\n",
       "    .dataframe tbody tr th:only-of-type {\n",
       "        vertical-align: middle;\n",
       "    }\n",
       "\n",
       "    .dataframe tbody tr th {\n",
       "        vertical-align: top;\n",
       "    }\n",
       "\n",
       "    .dataframe thead th {\n",
       "        text-align: right;\n",
       "    }\n",
       "</style>\n",
       "<table border=\"1\" class=\"dataframe\">\n",
       "  <thead>\n",
       "    <tr style=\"text-align: right;\">\n",
       "      <th></th>\n",
       "      <th>country</th>\n",
       "      <th>description</th>\n",
       "      <th>designation</th>\n",
       "      <th>points</th>\n",
       "      <th>price</th>\n",
       "      <th>province</th>\n",
       "      <th>region_1</th>\n",
       "      <th>region_2</th>\n",
       "      <th>taster_name</th>\n",
       "      <th>taster_twitter_handle</th>\n",
       "      <th>title</th>\n",
       "      <th>variety</th>\n",
       "      <th>winery</th>\n",
       "    </tr>\n",
       "  </thead>\n",
       "  <tbody>\n",
       "    <tr>\n",
       "      <th>0</th>\n",
       "      <td>22</td>\n",
       "      <td>Aromas include tropical fruit, broom, brimston...</td>\n",
       "      <td>Vulkà Bianco</td>\n",
       "      <td>87</td>\n",
       "      <td>87.0</td>\n",
       "      <td>331</td>\n",
       "      <td>424</td>\n",
       "      <td>15</td>\n",
       "      <td>Kerin O’Keefe</td>\n",
       "      <td>@kerinokeefe</td>\n",
       "      <td>Nicosia 2013 Vulkà Bianco  (Etna)</td>\n",
       "      <td>690</td>\n",
       "      <td>11608</td>\n",
       "    </tr>\n",
       "    <tr>\n",
       "      <th>1</th>\n",
       "      <td>31</td>\n",
       "      <td>This is ripe and fruity, a wine that is smooth...</td>\n",
       "      <td>Avidagos</td>\n",
       "      <td>87</td>\n",
       "      <td>87.0</td>\n",
       "      <td>108</td>\n",
       "      <td>1094</td>\n",
       "      <td>15</td>\n",
       "      <td>Roger Voss</td>\n",
       "      <td>@vossroger</td>\n",
       "      <td>Quinta dos Avidagos 2011 Avidagos Red (Douro)</td>\n",
       "      <td>450</td>\n",
       "      <td>12956</td>\n",
       "    </tr>\n",
       "    <tr>\n",
       "      <th>...</th>\n",
       "      <td>...</td>\n",
       "      <td>...</td>\n",
       "      <td>...</td>\n",
       "      <td>...</td>\n",
       "      <td>...</td>\n",
       "      <td>...</td>\n",
       "      <td>...</td>\n",
       "      <td>...</td>\n",
       "      <td>...</td>\n",
       "      <td>...</td>\n",
       "      <td>...</td>\n",
       "      <td>...</td>\n",
       "      <td>...</td>\n",
       "    </tr>\n",
       "    <tr>\n",
       "      <th>129969</th>\n",
       "      <td>15</td>\n",
       "      <td>A dry style of Pinot Gris, this is crisp with ...</td>\n",
       "      <td>NaN</td>\n",
       "      <td>90</td>\n",
       "      <td>90.0</td>\n",
       "      <td>11</td>\n",
       "      <td>21</td>\n",
       "      <td>15</td>\n",
       "      <td>Roger Voss</td>\n",
       "      <td>@vossroger</td>\n",
       "      <td>Domaine Marcel Deiss 2012 Pinot Gris (Alsace)</td>\n",
       "      <td>436</td>\n",
       "      <td>6027</td>\n",
       "    </tr>\n",
       "    <tr>\n",
       "      <th>129970</th>\n",
       "      <td>15</td>\n",
       "      <td>Big, rich and off-dry, this is powered by inte...</td>\n",
       "      <td>Lieu-dit Harth Cuvée Caroline</td>\n",
       "      <td>90</td>\n",
       "      <td>90.0</td>\n",
       "      <td>11</td>\n",
       "      <td>21</td>\n",
       "      <td>15</td>\n",
       "      <td>Roger Voss</td>\n",
       "      <td>@vossroger</td>\n",
       "      <td>Domaine Schoffit 2012 Lieu-dit Harth Cuvée Car...</td>\n",
       "      <td>209</td>\n",
       "      <td>6144</td>\n",
       "    </tr>\n",
       "  </tbody>\n",
       "</table>\n",
       "<p>129971 rows × 13 columns</p>\n",
       "</div>"
      ],
      "text/plain": [
       "        country                                        description  \\\n",
       "0            22  Aromas include tropical fruit, broom, brimston...   \n",
       "1            31  This is ripe and fruity, a wine that is smooth...   \n",
       "...         ...                                                ...   \n",
       "129969       15  A dry style of Pinot Gris, this is crisp with ...   \n",
       "129970       15  Big, rich and off-dry, this is powered by inte...   \n",
       "\n",
       "                          designation  points  price  province  region_1  \\\n",
       "0                        Vulkà Bianco      87   87.0       331       424   \n",
       "1                            Avidagos      87   87.0       108      1094   \n",
       "...                               ...     ...    ...       ...       ...   \n",
       "129969                            NaN      90   90.0        11        21   \n",
       "129970  Lieu-dit Harth Cuvée Caroline      90   90.0        11        21   \n",
       "\n",
       "        region_2    taster_name taster_twitter_handle  \\\n",
       "0             15  Kerin O’Keefe          @kerinokeefe   \n",
       "1             15     Roger Voss            @vossroger   \n",
       "...          ...            ...                   ...   \n",
       "129969        15     Roger Voss            @vossroger   \n",
       "129970        15     Roger Voss            @vossroger   \n",
       "\n",
       "                                                    title  variety  winery  \n",
       "0                       Nicosia 2013 Vulkà Bianco  (Etna)      690   11608  \n",
       "1           Quinta dos Avidagos 2011 Avidagos Red (Douro)      450   12956  \n",
       "...                                                   ...      ...     ...  \n",
       "129969      Domaine Marcel Deiss 2012 Pinot Gris (Alsace)      436    6027  \n",
       "129970  Domaine Schoffit 2012 Lieu-dit Harth Cuvée Car...      209    6144  \n",
       "\n",
       "[129971 rows x 13 columns]"
      ]
     },
     "execution_count": 357,
     "metadata": {},
     "output_type": "execute_result"
    }
   ],
   "source": [
    "reviews"
   ]
  },
  {
   "cell_type": "markdown",
   "metadata": {},
   "source": [
    "## С использованием метода train_test_split разделите выборку на обучающую и тестовую."
   ]
  },
  {
   "cell_type": "code",
   "execution_count": 358,
   "metadata": {},
   "outputs": [],
   "source": [
    "from sklearn.model_selection import train_test_split\n",
    "\n",
    "X = reviews[['country', 'price', 'province', 'region_1', 'variety', 'winery']]\n",
    "y = reviews['points']\n",
    "X_train, X_test, y_train, y_test = train_test_split(X, y, test_size=0.1, random_state=42)"
   ]
  },
  {
   "cell_type": "markdown",
   "metadata": {},
   "source": [
    "## Обучите модель ближайших соседей для произвольно заданного гиперпараметра K. Оцените качество модели с помощью трех подходящих для задачи метрик."
   ]
  },
  {
   "cell_type": "code",
   "execution_count": 359,
   "metadata": {},
   "outputs": [
    {
     "data": {
      "text/plain": [
       "KNeighborsRegressor(algorithm='auto', leaf_size=30, metric='minkowski',\n",
       "          metric_params=None, n_jobs=None, n_neighbors=5, p=2,\n",
       "          weights='uniform')"
      ]
     },
     "execution_count": 359,
     "metadata": {},
     "output_type": "execute_result"
    }
   ],
   "source": [
    "from sklearn.neighbors import KNeighborsRegressor\n",
    "neigh = KNeighborsRegressor(n_neighbors=5)\n",
    "neigh.fit(X_train, y_train)"
   ]
  },
  {
   "cell_type": "code",
   "execution_count": 360,
   "metadata": {},
   "outputs": [],
   "source": [
    "y_pred = neigh.predict(X_test)"
   ]
  },
  {
   "cell_type": "code",
   "execution_count": 361,
   "metadata": {},
   "outputs": [
    {
     "data": {
      "text/plain": [
       "array([88. , 87. , 86.6, ..., 89.4, 87.2, 89.6])"
      ]
     },
     "execution_count": 361,
     "metadata": {},
     "output_type": "execute_result"
    }
   ],
   "source": [
    "y_pred"
   ]
  },
  {
   "cell_type": "code",
   "execution_count": 362,
   "metadata": {},
   "outputs": [
    {
     "data": {
      "text/plain": [
       "array([83, 85, 86, ..., 89, 91, 91])"
      ]
     },
     "execution_count": 362,
     "metadata": {},
     "output_type": "execute_result"
    }
   ],
   "source": [
    "y_test.values"
   ]
  },
  {
   "cell_type": "code",
   "execution_count": 363,
   "metadata": {},
   "outputs": [
    {
     "name": "stdout",
     "output_type": "stream",
     "text": [
      "Метрика №1: 10.0\n",
      "Метрика №2: 4.792521926450363\n"
     ]
    }
   ],
   "source": [
    "# пусть первая метрика - максимальный модуль разности\n",
    "metric1 = max(abs(y_test.values[k] - v) for k, v in enumerate(y_pred))\n",
    "print(\"Метрика №1:\", metric1)\n",
    "\n",
    "# пусть вторая метрика - самопальная mean_squared_error\n",
    "metric2 = sum(pow(y_test.values[k] - v, 2) for k, v in enumerate(y_pred)) / len(y_pred)\n",
    "print(\"Метрика №2:\", metric2)"
   ]
  },
  {
   "cell_type": "markdown",
   "metadata": {},
   "source": [
    "## Постройте модель и оцените качество модели с использованием кросс-валидации. Проведите эксперименты с тремя различными стратегиями кросс-валидации.\n"
   ]
  },
  {
   "cell_type": "code",
   "execution_count": null,
   "metadata": {},
   "outputs": [],
   "source": []
  },
  {
   "cell_type": "code",
   "execution_count": 364,
   "metadata": {},
   "outputs": [
    {
     "data": {
      "text/plain": [
       "array([0.46893334, 0.46132663, 0.4546627 , 0.45731714, 0.45293478,\n",
       "       0.47408317, 0.4616699 , 0.43496419, 0.443433  , 0.45459557])"
      ]
     },
     "execution_count": 364,
     "metadata": {},
     "output_type": "execute_result"
    }
   ],
   "source": [
    "from sklearn.model_selection import cross_val_score\n",
    "estimator = neigh\n",
    "scores = cross_val_score(estimator, X_train, y_train, cv=10) # 10 folds by Stratified)KFold\n",
    "scores"
   ]
  },
  {
   "cell_type": "code",
   "execution_count": 365,
   "metadata": {},
   "outputs": [
    {
     "name": "stdout",
     "output_type": "stream",
     "text": [
      "Точность в первом случае: 0.46 (+/- 0.02)\n"
     ]
    }
   ],
   "source": [
    "print(\"Точность в первом случае: %0.2f (+/- %0.2f)\" % (scores.mean(), scores.std() * 2))"
   ]
  },
  {
   "cell_type": "code",
   "execution_count": 366,
   "metadata": {},
   "outputs": [
    {
     "data": {
      "text/plain": [
       "array([0.45391062, 0.44961495, 0.45048036, 0.44908869, 0.44108992,\n",
       "       0.42965588, 0.44428762, 0.44557639, 0.43150089, 0.45315958])"
      ]
     },
     "execution_count": 366,
     "metadata": {},
     "output_type": "execute_result"
    }
   ],
   "source": [
    "from sklearn.model_selection import ShuffleSplit\n",
    "cv = ShuffleSplit(n_splits=10, test_size=0.15, random_state=3)\n",
    "scores2 = cross_val_score(estimator, X_train, y_train, cv=cv)\n",
    "scores2"
   ]
  },
  {
   "cell_type": "code",
   "execution_count": 367,
   "metadata": {},
   "outputs": [
    {
     "name": "stdout",
     "output_type": "stream",
     "text": [
      "Точность во втором случае: 0.44 (+/- 0.02)\n"
     ]
    }
   ],
   "source": [
    "print(\"Точность во втором случае: %0.2f (+/- %0.2f)\" % (scores2.mean(), scores2.std() * 2))"
   ]
  },
  {
   "cell_type": "markdown",
   "metadata": {},
   "source": [
    "## Произведите подбор гиперпараметра K с использованием GridSearchCV и кросс-валидации."
   ]
  },
  {
   "cell_type": "code",
   "execution_count": 368,
   "metadata": {},
   "outputs": [],
   "source": [
    "from sklearn.model_selection import GridSearchCV"
   ]
  },
  {
   "cell_type": "code",
   "execution_count": 369,
   "metadata": {},
   "outputs": [],
   "source": [
    "grid_search = GridSearchCV(estimator, cv=5, param_grid={'n_neighbors': [1, 2, 3]})\n",
    "grid_search.fit(X_train, y_train)\n",
    "y_pred2 = grid_search.predict(X_test)"
   ]
  },
  {
   "cell_type": "code",
   "execution_count": 370,
   "metadata": {},
   "outputs": [
    {
     "name": "stdout",
     "output_type": "stream",
     "text": [
      "Метрика №1 для найденного параметра: 12.0\n",
      "Метрика №2 для найденного параметра: 4.034966917987383\n"
     ]
    }
   ],
   "source": [
    "# пусть первая метрика - максимальный модуль разности\n",
    "metric1 = max(abs(y_test.values[k] - v) for k, v in enumerate(y_pred2))\n",
    "print(\"Метрика №1 для найденного параметра:\", metric1)\n",
    "\n",
    "# пусть вторая метрика - самопальная mean_squared_error\n",
    "metric2 = sum(pow(y_test.values[k] - v, 2) for k, v in enumerate(y_pred2)) / len(y_pred2)\n",
    "print(\"Метрика №2 для найденного параметра:\", metric2)"
   ]
  },
  {
   "cell_type": "code",
   "execution_count": null,
   "metadata": {},
   "outputs": [],
   "source": []
  }
 ],
 "metadata": {
  "kernelspec": {
   "display_name": "Python 3",
   "language": "python",
   "name": "python3"
  },
  "language_info": {
   "codemirror_mode": {
    "name": "ipython",
    "version": 2
   },
   "file_extension": ".py",
   "mimetype": "text/x-python",
   "name": "python",
   "nbconvert_exporter": "python",
   "pygments_lexer": "ipython2",
   "version": "2.7.15"
  }
 },
 "nbformat": 4,
 "nbformat_minor": 2
}
